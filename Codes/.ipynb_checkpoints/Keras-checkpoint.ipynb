{
 "cells": [
  {
   "cell_type": "code",
   "execution_count": 4,
   "metadata": {
    "collapsed": true
   },
   "outputs": [],
   "source": [
    "import pandas as pd\n",
    "from IPython.display import display\n",
    "from sklearn import preprocessing\n",
    "from keras.layers import Dense\n",
    "from keras.models import Sequential\n",
    "from sklearn.model_selection import train_test_split\n",
    "\n",
    "#Load data\n",
    "data=pd.read_csv(\"../Data/creditcard.csv\")\n",
    "\n",
    "#delete time as it is a useless variable\n",
    "del data['Time']\n"
   ]
  },
  {
   "cell_type": "code",
   "execution_count": 5,
   "metadata": {},
   "outputs": [
    {
     "name": "stdout",
     "output_type": "stream",
     "text": [
      "Train on 227845 samples, validate on 56962 samples\n",
      "Epoch 1/3\n",
      "227845/227845 [==============================] - 10s - loss: 0.0188 - acc: 0.9936 - val_loss: 0.0064 - val_acc: 0.9987\n",
      "Epoch 2/3\n",
      "227845/227845 [==============================] - 9s - loss: 0.0058 - acc: 0.9987 - val_loss: 0.0045 - val_acc: 0.9990\n",
      "Epoch 3/3\n",
      "227845/227845 [==============================] - 9s - loss: 0.0049 - acc: 0.9990 - val_loss: 0.0039 - val_acc: 0.9991\n"
     ]
    }
   ],
   "source": [
    "X=data.iloc[:,0:-1]\n",
    "Y=data.iloc[:,-1].values\n",
    "\n",
    "#Normalize data\n",
    "min_max_scaler=preprocessing.MinMaxScaler()\n",
    "X=min_max_scaler.fit_transform(X)\n",
    "\n",
    "#build a deep learning model with 6 hidden nodes (one hidden layer) and 1 sigmoid output\n",
    "model=Sequential()\n",
    "model.add(Dense(6,input_dim=29,activation='relu'))\n",
    "model.add(Dense(1,activation='sigmoid'))\n",
    "model.compile(loss='binary_crossentropy',optimizer='adam',metrics=['accuracy'])\n",
    "model.fit(X,Y,validation_split=0.2,epochs=3,batch_size=30)\n",
    "\n",
    "\n",
    "#save model\n",
    "model.save('../SavedModels/keras.h5')  # creates a HDF5 file 'Keras.h5'\n"
   ]
  },
  {
   "cell_type": "code",
   "execution_count": null,
   "metadata": {
    "collapsed": true
   },
   "outputs": [],
   "source": []
  }
 ],
 "metadata": {
  "kernelspec": {
   "display_name": "Python 3",
   "language": "python",
   "name": "python3"
  },
  "language_info": {
   "codemirror_mode": {
    "name": "ipython",
    "version": 3
   },
   "file_extension": ".py",
   "mimetype": "text/x-python",
   "name": "python",
   "nbconvert_exporter": "python",
   "pygments_lexer": "ipython3",
   "version": "3.5.2"
  }
 },
 "nbformat": 4,
 "nbformat_minor": 2
}
