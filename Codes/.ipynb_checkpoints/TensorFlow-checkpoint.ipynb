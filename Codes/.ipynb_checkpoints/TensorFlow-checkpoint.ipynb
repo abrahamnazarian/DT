{
 "cells": [
  {
   "cell_type": "code",
   "execution_count": 1,
   "metadata": {},
   "outputs": [
    {
     "name": "stderr",
     "output_type": "stream",
     "text": [
      "/Library/Frameworks/Python.framework/Versions/3.5/lib/python3.5/site-packages/tensorflow/python/framework/dtypes.py:523: FutureWarning: Passing (type, 1) or '1type' as a synonym of type is deprecated; in a future version of numpy, it will be understood as (type, (1,)) / '(1,)type'.\n",
      "  _np_qint8 = np.dtype([(\"qint8\", np.int8, 1)])\n",
      "/Library/Frameworks/Python.framework/Versions/3.5/lib/python3.5/site-packages/tensorflow/python/framework/dtypes.py:524: FutureWarning: Passing (type, 1) or '1type' as a synonym of type is deprecated; in a future version of numpy, it will be understood as (type, (1,)) / '(1,)type'.\n",
      "  _np_quint8 = np.dtype([(\"quint8\", np.uint8, 1)])\n",
      "/Library/Frameworks/Python.framework/Versions/3.5/lib/python3.5/site-packages/tensorflow/python/framework/dtypes.py:525: FutureWarning: Passing (type, 1) or '1type' as a synonym of type is deprecated; in a future version of numpy, it will be understood as (type, (1,)) / '(1,)type'.\n",
      "  _np_qint16 = np.dtype([(\"qint16\", np.int16, 1)])\n",
      "/Library/Frameworks/Python.framework/Versions/3.5/lib/python3.5/site-packages/tensorflow/python/framework/dtypes.py:526: FutureWarning: Passing (type, 1) or '1type' as a synonym of type is deprecated; in a future version of numpy, it will be understood as (type, (1,)) / '(1,)type'.\n",
      "  _np_quint16 = np.dtype([(\"quint16\", np.uint16, 1)])\n",
      "/Library/Frameworks/Python.framework/Versions/3.5/lib/python3.5/site-packages/tensorflow/python/framework/dtypes.py:527: FutureWarning: Passing (type, 1) or '1type' as a synonym of type is deprecated; in a future version of numpy, it will be understood as (type, (1,)) / '(1,)type'.\n",
      "  _np_qint32 = np.dtype([(\"qint32\", np.int32, 1)])\n",
      "/Library/Frameworks/Python.framework/Versions/3.5/lib/python3.5/site-packages/tensorflow/python/framework/dtypes.py:532: FutureWarning: Passing (type, 1) or '1type' as a synonym of type is deprecated; in a future version of numpy, it will be understood as (type, (1,)) / '(1,)type'.\n",
      "  np_resource = np.dtype([(\"resource\", np.ubyte, 1)])\n"
     ]
    }
   ],
   "source": [
    "import pandas as pd\n",
    "from IPython.display import display\n",
    "from sklearn import preprocessing\n",
    "import tensorflow as tf\n",
    "from sklearn.model_selection import train_test_split\n",
    "import numpy as np\n",
    "from tensorflow.python.saved_model.simple_save import simple_save\n",
    "\n",
    "data=pd.read_csv(\"../Data/creditcard.csv\")\n",
    "del data['Time']\n"
   ]
  },
  {
   "cell_type": "code",
   "execution_count": 4,
   "metadata": {},
   "outputs": [
    {
     "name": "stdout",
     "output_type": "stream",
     "text": [
      "Epoch: 1 cost = 0.013\n",
      "0.9982269\n",
      "INFO:tensorflow:Assets added to graph.\n",
      "INFO:tensorflow:No assets to write.\n",
      "INFO:tensorflow:SavedModel written to: ../SavedModels/TFModel/saved_model.pb\n",
      "done\n"
     ]
    }
   ],
   "source": [
    "#separate X and Y\n",
    "X=data.iloc[:,0:-1].values\n",
    "Y=data.iloc[:,-1].values\n",
    "\n",
    "#Normalize data\n",
    "min_max_scaler=preprocessing.MinMaxScaler()\n",
    "X=min_max_scaler.fit_transform(X)\n",
    "\n",
    "#Separate train/Test data\n",
    "X_train, X_test, y_train, y_test = train_test_split(X, Y, test_size=0.2, random_state=230)\n",
    "\n",
    "\n",
    "learning_rate=0.02\n",
    "epochs=1\n",
    "batch_size=30\n",
    "\n",
    "x=tf.placeholder(tf.float32,[None,29])\n",
    "y=tf.placeholder(tf.float32,[None,1])\n",
    "\n",
    "#declare weight connecting input layer to hidden layer\n",
    "W1=tf.Variable(tf.random_normal([29,6]),name='W1')\n",
    "b1=tf.Variable(tf.random_normal([6]),name='b1')\n",
    "\n",
    "#declare weights connecting the hidden layer to the output layer\n",
    "W2=tf.Variable(tf.random_normal([6,1]),name='W2')\n",
    "b2=tf.Variable(tf.random_normal([1]),name='b2')\n",
    "\n",
    "#calculate the output of the hidden layer\n",
    "hidden_out=tf.add(tf.matmul(x,W1),b1)\n",
    "hidden_out=tf.nn.relu(hidden_out)\n",
    "\n",
    "#calculate the hidden layer output, using softmax\n",
    "y_=tf.nn.sigmoid(tf.add(tf.matmul(hidden_out,W2),b2))\n",
    "\n",
    "y_clipped = tf.clip_by_value(y_, 1e-10, 0.9999999)\n",
    "cross_entropy = -tf.reduce_mean(tf.reduce_sum(y * tf.log(y_clipped)+ (1 - y) * tf.log(1 - y_clipped), axis=1))\n",
    "\n",
    "# add an optimiser\n",
    "optimiser = tf.train.GradientDescentOptimizer(learning_rate=learning_rate).minimize(cross_entropy)\n",
    "\n",
    "\n",
    "# finally setup the initialisation operator\n",
    "init_op = tf.global_variables_initializer()\n",
    "\n",
    "# define an accuracy assessment operation\n",
    "prediction=tf.round(y_)\n",
    "correct_prediction = tf.equal(tf.round(y), tf.round(y_))\n",
    "accuracy = tf.reduce_mean(tf.cast(correct_prediction, tf.float32))\n",
    "#acc, acc_op = tf.metrics.accuracy(labels=tf.argmax(labels, 1), predictions=tf.argmax(logits,1))\n",
    "\n",
    "# Add ops to save and restore all the variables.\n",
    "saver = tf.train.Saver()\n",
    "\n",
    "# start the session\n",
    "with tf.Session() as sess:\n",
    "    # initialise the variables\n",
    "    sess.run(init_op)\n",
    "    total_batch = int(X_train.shape[0]/ batch_size)\n",
    "    for epoch in range(epochs):\n",
    "        avg_cost = 0\n",
    "        for i in range(total_batch):\n",
    "            #batch_x=np.array([X_train[i]]);\n",
    "            #batch_y=np.matrix([y_train[i]]);\n",
    "            if i==0:\n",
    "                batch_x=X_train[0:batch_size*(i+1),:];\n",
    "                batch_y=np.transpose([y_train[0:batch_size*(i+1)]])\n",
    "            else:\n",
    "                batch_x=X_train[batch_size*i:batch_size*(i+1),:];\n",
    "                batch_y=np.transpose([y_train[batch_size*i:batch_size*(i+1)]])\n",
    "            _, c = sess.run([optimiser, cross_entropy], feed_dict={x: batch_x, y: batch_y})\n",
    "            avg_cost += c / total_batch\n",
    "        print (\"Epoch:\", (epoch + 1), \"cost =\", \"{:.3f}\".format(avg_cost))\n",
    "        print (sess.run(accuracy, feed_dict={x: X_test, y: np.transpose(np.matrix(y_test))}))\n",
    "        #output= sess.run(prediction,feed_dict={x: batch_x, y: (np.matrix(batch_y))})\n",
    "    simple_save(sess, \"../SavedModels/TFModel/\", inputs={\"inputs\": x}, outputs={\"outputs\": y})\n",
    "    print (\"done\")\n",
    "\n"
   ]
  },
  {
   "cell_type": "code",
   "execution_count": null,
   "metadata": {
    "collapsed": true
   },
   "outputs": [],
   "source": []
  }
 ],
 "metadata": {
  "kernelspec": {
   "display_name": "Python 3",
   "language": "python",
   "name": "python3"
  },
  "language_info": {
   "codemirror_mode": {
    "name": "ipython",
    "version": 3
   },
   "file_extension": ".py",
   "mimetype": "text/x-python",
   "name": "python",
   "nbconvert_exporter": "python",
   "pygments_lexer": "ipython3",
   "version": "3.5.2"
  }
 },
 "nbformat": 4,
 "nbformat_minor": 2
}
