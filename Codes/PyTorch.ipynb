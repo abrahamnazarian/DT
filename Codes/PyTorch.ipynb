{
 "cells": [
  {
   "cell_type": "code",
   "execution_count": 1,
   "metadata": {
    "collapsed": true
   },
   "outputs": [],
   "source": [
    "import pandas as pd\n",
    "from IPython.display import display\n",
    "from sklearn import preprocessing\n",
    "from sklearn.model_selection import train_test_split\n",
    "import numpy as np\n",
    "from torch.utils.data import DataLoader\n",
    "from torch.utils.data.sampler import SubsetRandomSampler\n",
    "import torch.nn.functional as F\n",
    "import torch.nn as nn\n",
    "import torch\n",
    "import torch.nn as nn\n",
    "import torch.nn.functional as F\n",
    "import torch.utils\n",
    "from torch.autograd import Variable\n",
    "\n",
    "\n",
    "data=pd.read_csv(\"../Data/creditcard.csv\")\n",
    "del data['Time']\n"
   ]
  },
  {
   "cell_type": "code",
   "execution_count": 2,
   "metadata": {
    "scrolled": false
   },
   "outputs": [
    {
     "name": "stdout",
     "output_type": "stream",
     "text": [
      "Epoch # 1    Accuracy: 99.82268881008392 %\n",
      "---------------------\n",
      "Epoch # 2    Accuracy: 99.82268881008392 %\n",
      "---------------------\n",
      "Epoch # 3    Accuracy: 99.82268881008392 %\n",
      "---------------------\n"
     ]
    },
    {
     "name": "stderr",
     "output_type": "stream",
     "text": [
      "/Library/Frameworks/Python.framework/Versions/3.5/lib/python3.5/site-packages/torch/serialization.py:292: UserWarning: Couldn't retrieve source code for container of type Net. It won't be checked for correctness upon loading.\n",
      "  \"type \" + obj.__name__ + \". It won't be checked \"\n",
      "/Library/Frameworks/Python.framework/Versions/3.5/lib/python3.5/site-packages/torch/serialization.py:292: UserWarning: Couldn't retrieve source code for container of type Linear. It won't be checked for correctness upon loading.\n",
      "  \"type \" + obj.__name__ + \". It won't be checked \"\n"
     ]
    }
   ],
   "source": [
    "#separate X and Y\n",
    "X=data.iloc[:,0:-1].values\n",
    "Y=data.iloc[:,-1].values\n",
    "\n",
    "#Normalize data\n",
    "min_max_scaler=preprocessing.MinMaxScaler()\n",
    "X=min_max_scaler.fit_transform(X)\n",
    "\n",
    "\n",
    "#Separate train/Test data\n",
    "X_train, X_test, y_train, y_test = train_test_split(X, Y, test_size=0.2, random_state=230)\n",
    "\n",
    "batch_size=30\n",
    "epochs=3\n",
    "learning_rate=0.001\n",
    "\n",
    "\n",
    "#Training data set tensors\n",
    "train_target = torch.tensor(y_train.astype(np.long))\n",
    "train = torch.tensor(X_train.astype(np.float32)) \n",
    "train_tensor = torch.utils.data.TensorDataset(train, train_target) \n",
    "train_loader = torch.utils.data.DataLoader(dataset = train_tensor, batch_size = 16, shuffle = True)\n",
    "\n",
    "#test dataset tensors\n",
    "test_target = torch.tensor(y_test.astype(np.long))\n",
    "test = torch.tensor(X_test.astype(np.float32)) \n",
    "test_tensor = torch.utils.data.TensorDataset(train, train_target) \n",
    "test_loader = torch.utils.data.DataLoader(dataset = train_tensor, batch_size = 16, shuffle = True)\n",
    "\n",
    "class Net(nn.Module):\n",
    "    def __init__(self):\n",
    "        super(Net, self).__init__()\n",
    "        self.fc1 = nn.Linear(29, 6)\n",
    "        self.fc2 = nn.Linear(6, 2)\n",
    "        #self.fc3 = nn.Linear(200, 10)\n",
    "    def forward(self, x):\n",
    "        x = F.relu(self.fc1(x))\n",
    "        #x = F.relu(self.fc2(x))\n",
    "        x = self.fc2(x)\n",
    "        #return F.log_softmax(x)\n",
    "        return torch.sigmoid(x)\n",
    "net = Net()\n",
    "\n",
    "# create a stochastic gradient descent optimizer\n",
    "optimizer = torch.optim.SGD(net.parameters(), lr=learning_rate, momentum=0.9)\n",
    "# create a loss function\n",
    "criterion = nn.CrossEntropyLoss()\n",
    "\n",
    "# run the main training loop\n",
    "for epoch in range(epochs):\n",
    "    for batch_idx, (Xdata, target) in enumerate(train_loader):\n",
    "        Xdata, target = Variable(Xdata), Variable(target)\n",
    "        optimizer.zero_grad()\n",
    "        net_out = net(Xdata)\n",
    "        loss = criterion(net_out, target)\n",
    "        loss.backward()\n",
    "        optimizer.step()\n",
    "    out = net(test)\n",
    "    _,predicted = torch.max(out.data,1)\n",
    "    total = test_target.size(0)\n",
    "    correct = (predicted==test_target).sum().item()\n",
    "    print('Epoch #',epoch+1,\"  \",'Accuracy: {} %'.format(100 * correct / total))\n",
    "    print (\"---------------------\")\n",
    "\n",
    "#Save Model\n",
    "torch.save(net, \"../SavedModels/Torch_Model.pt\")\n"
   ]
  },
  {
   "cell_type": "code",
   "execution_count": null,
   "metadata": {
    "collapsed": true
   },
   "outputs": [],
   "source": []
  }
 ],
 "metadata": {
  "kernelspec": {
   "display_name": "Python 3",
   "language": "python",
   "name": "python3"
  },
  "language_info": {
   "codemirror_mode": {
    "name": "ipython",
    "version": 3
   },
   "file_extension": ".py",
   "mimetype": "text/x-python",
   "name": "python",
   "nbconvert_exporter": "python",
   "pygments_lexer": "ipython3",
   "version": "3.5.2"
  }
 },
 "nbformat": 4,
 "nbformat_minor": 2
}
